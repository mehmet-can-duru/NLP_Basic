{
  "nbformat": 4,
  "nbformat_minor": 0,
  "metadata": {
    "colab": {
      "name": "NLP_Denem1.ipynb",
      "provenance": [],
      "collapsed_sections": [],
      "authorship_tag": "ABX9TyNCcSvsH25pIHPOHf08aPph",
      "include_colab_link": true
    },
    "kernelspec": {
      "name": "python3",
      "display_name": "Python 3"
    },
    "accelerator": "GPU"
  },
  "cells": [
    {
      "cell_type": "markdown",
      "metadata": {
        "id": "view-in-github",
        "colab_type": "text"
      },
      "source": [
        "<a href=\"https://colab.research.google.com/github/mehmet-can-duru/NLP_Basic/blob/master/NLP_Denem1.ipynb\" target=\"_parent\"><img src=\"https://colab.research.google.com/assets/colab-badge.svg\" alt=\"Open In Colab\"/></a>"
      ]
    },
    {
      "cell_type": "code",
      "metadata": {
        "id": "MJJU7Alkclwi",
        "colab_type": "code",
        "colab": {
          "base_uri": "https://localhost:8080/",
          "height": 104
        },
        "outputId": "d6bde909-4dad-4ca8-a93c-98abdaf71e17"
      },
      "source": [
        "pip install TurkishStemmer"
      ],
      "execution_count": null,
      "outputs": [
        {
          "output_type": "stream",
          "text": [
            "Collecting TurkishStemmer\n",
            "  Downloading https://files.pythonhosted.org/packages/fd/bf/3e56dd4ce442f9237e1c202ce736ae5e5818d74f81604f1665e67736cfc0/TurkishStemmer-1.3-py3-none-any.whl\n",
            "Installing collected packages: TurkishStemmer\n",
            "Successfully installed TurkishStemmer-1.3\n"
          ],
          "name": "stdout"
        }
      ]
    },
    {
      "cell_type": "code",
      "metadata": {
        "id": "ORT7ISGqc3uT",
        "colab_type": "code",
        "colab": {
          "base_uri": "https://localhost:8080/",
          "height": 34
        },
        "outputId": "5801b9b3-93f5-4f94-faff-19453515d1f3"
      },
      "source": [
        "import numpy as np\n",
        "import pandas as pd\n",
        "import re\n",
        "import nltk\n",
        "import matplotlib.pyplot as plt\n",
        "from nltk.corpus import stopwords\n",
        "#from nltk.stem.porter import PorterStemmer\n",
        "from TurkishStemmer import TurkishStemmer#\"pip install TurkishStemmer\"\n",
        "from sklearn.feature_extraction.text import CountVectorizer\n",
        "from sklearn.naive_bayes import GaussianNB\n",
        "from sklearn.model_selection import train_test_split\n",
        "from sklearn.metrics import confusion_matrix\n",
        "from keras.models import Sequential\n",
        "from keras.layers import Flatten, Dense, Embedding, LSTM\n",
        "from keras import preprocessing, layers\n",
        "from keras.preprocessing.text import Tokenizer\n",
        "from keras.preprocessing.sequence import pad_sequences\n",
        "from sklearn.metrics import accuracy_score, f1_score, precision_score, recall_score, classification_report\n",
        "from keras.optimizers import RMSprop"
      ],
      "execution_count": null,
      "outputs": [
        {
          "output_type": "stream",
          "text": [
            "Using TensorFlow backend.\n"
          ],
          "name": "stderr"
        }
      ]
    },
    {
      "cell_type": "code",
      "metadata": {
        "id": "6wR9Cwsjc57R",
        "colab_type": "code",
        "colab": {}
      },
      "source": [
        "nltk.download('stopwords')#stepwords yüklüyorum\n",
        "#error_bad_lines=False bunu yazmadığım takdirde hata aldım verinin içindeki virgüllerden dolayı\n",
        "yorumlar = pd.read_csv('./DuzenlenmisVeriCsv3.csv', encoding = 'cp1254', error_bad_lines=False)#Veriyi Yüklüyorum\n",
        "stopWordList = nltk.corpus.stopwords.words('turkish')#türkçe metinim olduğu için türkçe stepwords yüklüyorum\n",
        "#ps = PorterStemmer()\n",
        "stemmer = TurkishStemmer()#Bağlaçları ayırma yüklüyorum \n",
        "#print(stopWordList)\n",
        "\n",
        "print(len(yorumlar))\n",
        "\"\"\"\n",
        "Ön Temizleme veya İşleme (Preprocessing)\n",
        "\"\"\"\n",
        "duzenlen = []\n",
        "#labels = []\n",
        "for i in range(len(yorumlar)):\n",
        "    yorum = re.sub('[^a-zA-ZÇŞĞÜÖİçşğüöı]', ' ', yorumlar['Veriler'][i])#[^a-zA-ZÇŞĞÜÖİçşğüöı] bunlar dışında olan karakterleri filitreleme\n",
        "    yorum = yorum.lower()#küçük harfe çevirme\n",
        "    yorum = yorum.split()#parçalara ayırma(token)\n",
        "    yorum = [stemmer.stem(kelime) for kelime in yorum if not kelime in set(stopWordList)]#stopwordleri atıklıyor ve bağlaçları atıyor\n",
        "    yorum = ' '.join(yorum) #tekrardan cümleyi birleştiriyorum\n",
        "    duzenlen.append(yorum)#Düzenlenen cümleleri yeni diziye kaydediyorum\n",
        "    #label = re.sub('[^0-1]','',str(yorumlar['Degerler'][i])).values\n",
        "    #labels.append(label)"
      ],
      "execution_count": null,
      "outputs": []
    },
    {
      "cell_type": "code",
      "metadata": {
        "id": "RS38jfyTc-KQ",
        "colab_type": "code",
        "colab": {
          "base_uri": "https://localhost:8080/",
          "height": 50
        },
        "outputId": "ab444d3d-2a7d-4cbb-d936-f0c35ddb8071"
      },
      "source": [
        "\n",
        "Max_Num_Words = 40000\n",
        "tokenizer = Tokenizer(num_words=Max_Num_Words)\n",
        "tokenizer.fit_on_texts(duzenlen)\n",
        "sequences = tokenizer.texts_to_sequences(duzenlen)\n",
        "\n",
        "\n",
        "\n",
        "\n",
        "\n",
        "\n",
        "maxlen=35\n",
        "X = pad_sequences(sequences, maxlen=maxlen)\n",
        "y = yorumlar.iloc[:,1].values\n",
        "#print(y)\n",
        "X_train, X_test, y_train, y_test = train_test_split(X, y, test_size = 0.20, random_state = 0)\n",
        "\n",
        "print(len(X_train))\n",
        "print(X_train.shape)"
      ],
      "execution_count": null,
      "outputs": [
        {
          "output_type": "stream",
          "text": [
            "19531\n",
            "(19531, 35)\n"
          ],
          "name": "stdout"
        }
      ]
    },
    {
      "cell_type": "code",
      "metadata": {
        "id": "0I57UTMSdBKe",
        "colab_type": "code",
        "colab": {
          "base_uri": "https://localhost:8080/",
          "height": 793
        },
        "outputId": "88639a0c-7074-42da-c961-b5ca250e7823"
      },
      "source": [
        "model = Sequential()\n",
        "\n",
        "model.add(layers.Embedding(40000, 128, input_length=maxlen))\n",
        "#model.add(Flatten())\n",
        "#model.add(LSTM(32))\n",
        "model.add(Dense(32))\n",
        "model.add(layers.Conv1D(32, 5, activation='relu'))\n",
        "model.add(layers.MaxPooling1D(5))\n",
        "model.add(layers.Conv1D(32, 5, activation='relu'))\n",
        "model.add(layers.GlobalMaxPooling1D())\n",
        "model.add(layers.Dense(1))\n",
        "\n",
        "model.summary()\n",
        "\n",
        "model.compile(optimizer=RMSprop(lr=1e-4), loss='binary_crossentropy', metrics=['acc'])\n",
        "\n",
        "\n",
        "history = model.fit(X_train, y_train, epochs=10, batch_size=128, validation_split=0.2)"
      ],
      "execution_count": null,
      "outputs": [
        {
          "output_type": "stream",
          "text": [
            "Model: \"sequential_1\"\n",
            "_________________________________________________________________\n",
            "Layer (type)                 Output Shape              Param #   \n",
            "=================================================================\n",
            "embedding_1 (Embedding)      (None, 35, 128)           5120000   \n",
            "_________________________________________________________________\n",
            "dense_1 (Dense)              (None, 35, 32)            4128      \n",
            "_________________________________________________________________\n",
            "conv1d_1 (Conv1D)            (None, 31, 32)            5152      \n",
            "_________________________________________________________________\n",
            "max_pooling1d_1 (MaxPooling1 (None, 6, 32)             0         \n",
            "_________________________________________________________________\n",
            "conv1d_2 (Conv1D)            (None, 2, 32)             5152      \n",
            "_________________________________________________________________\n",
            "global_max_pooling1d_1 (Glob (None, 32)                0         \n",
            "_________________________________________________________________\n",
            "dense_2 (Dense)              (None, 1)                 33        \n",
            "=================================================================\n",
            "Total params: 5,134,465\n",
            "Trainable params: 5,134,465\n",
            "Non-trainable params: 0\n",
            "_________________________________________________________________\n"
          ],
          "name": "stdout"
        },
        {
          "output_type": "stream",
          "text": [
            "/usr/local/lib/python3.6/dist-packages/tensorflow/python/framework/indexed_slices.py:434: UserWarning: Converting sparse IndexedSlices to a dense Tensor of unknown shape. This may consume a large amount of memory.\n",
            "  \"Converting sparse IndexedSlices to a dense Tensor of unknown shape. \"\n"
          ],
          "name": "stderr"
        },
        {
          "output_type": "stream",
          "text": [
            "Train on 15624 samples, validate on 3907 samples\n",
            "Epoch 1/10\n",
            "15624/15624 [==============================] - 7s 478us/step - loss: 1.4018 - acc: 0.8082 - val_loss: 0.5063 - val_acc: 0.7963\n",
            "Epoch 2/10\n",
            "15624/15624 [==============================] - 1s 87us/step - loss: 0.4767 - acc: 0.8082 - val_loss: 0.4936 - val_acc: 0.7963\n",
            "Epoch 3/10\n",
            "15624/15624 [==============================] - 1s 87us/step - loss: 0.4635 - acc: 0.8082 - val_loss: 0.4900 - val_acc: 0.7963\n",
            "Epoch 4/10\n",
            "15624/15624 [==============================] - 1s 85us/step - loss: 0.4509 - acc: 0.8082 - val_loss: 0.4850 - val_acc: 0.7963\n",
            "Epoch 5/10\n",
            "15624/15624 [==============================] - 1s 85us/step - loss: 0.4325 - acc: 0.8083 - val_loss: 0.4832 - val_acc: 0.7963\n",
            "Epoch 6/10\n",
            "15624/15624 [==============================] - 1s 85us/step - loss: 0.4025 - acc: 0.8104 - val_loss: 0.4575 - val_acc: 0.8001\n",
            "Epoch 7/10\n",
            "15624/15624 [==============================] - 1s 84us/step - loss: 0.3603 - acc: 0.8270 - val_loss: 0.4882 - val_acc: 0.8126\n",
            "Epoch 8/10\n",
            "15624/15624 [==============================] - 1s 84us/step - loss: 0.3159 - acc: 0.8528 - val_loss: 0.4891 - val_acc: 0.8270\n",
            "Epoch 9/10\n",
            "15624/15624 [==============================] - 1s 85us/step - loss: 0.2845 - acc: 0.8750 - val_loss: 0.5282 - val_acc: 0.8336\n",
            "Epoch 10/10\n",
            "15624/15624 [==============================] - 1s 86us/step - loss: 0.2570 - acc: 0.8884 - val_loss: 0.5096 - val_acc: 0.8316\n"
          ],
          "name": "stdout"
        }
      ]
    },
    {
      "cell_type": "code",
      "metadata": {
        "id": "R-knoJ43dG6G",
        "colab_type": "code",
        "colab": {
          "base_uri": "https://localhost:8080/",
          "height": 545
        },
        "outputId": "abb5dd5a-a7fb-489e-96ac-7f0c522c6026"
      },
      "source": [
        "acc = history.history['acc']\n",
        "val_acc = history.history['val_acc']\n",
        "loss = history.history['loss']\n",
        "val_loss = history.history['val_loss']\n",
        "epochs = range(1, len(acc)+1)\n",
        "\n",
        "plt.plot(epochs, acc, 'bo', label='Eğitim Başarımı')\n",
        "plt.plot(epochs, val_acc, 'b', label='Doğrulama Başarımı')\n",
        "plt.title('Eğitim ve Doğrulama Başarımı')\n",
        "plt.legend()\n",
        "plt.figure()\n",
        "plt.plot(epochs, loss, 'bo', label='Eğitim Kaybı')\n",
        "plt.plot(epochs, val_loss, 'b', label='Doğrulama Kaybı')\n",
        "plt.title('Eğitim ve Doğrulama Kaybı')\n",
        "plt.legend()\n",
        "\n",
        "plt.show()"
      ],
      "execution_count": null,
      "outputs": [
        {
          "output_type": "display_data",
          "data": {
            "image/png": "[encoded data removed]",
            "text/plain": [
              "<Figure size 432x288 with 1 Axes>"
            ]
          },
          "metadata": {
            "tags": [],
            "needs_background": "light"
          }
        },
        {
          "output_type": "display_data",
          "data": {
            "image/png": "[encoded data removed]",
            "text/plain": [
              "<Figure size 432x288 with 1 Axes>"
            ]
          },
          "metadata": {
            "tags": [],
            "needs_background": "light"
          }
        }
      ]
    },
    {
      "cell_type": "code",
      "metadata": {
        "id": "XJZspej0eEgi",
        "colab_type": "code",
        "colab": {
          "base_uri": "https://localhost:8080/",
          "height": 84
        },
        "outputId": "7fd8b17a-970c-4c47-bc98-6fafc4425a2b"
      },
      "source": [
        "yhat_probs = model.predict(X_test, verbose=0)\n",
        "# predict crisp classes for test set\n",
        "yhat_classes = model.predict_classes(X_test, verbose=0)\n",
        "\n",
        "# reduce to 1d array\n",
        "yhat_probs = yhat_probs[:, 0]\n",
        "yhat_classes = yhat_classes[:, 0]\n",
        "\n",
        "# accuracy: (tp + tn) / (p + n)\n",
        "accuracy = accuracy_score(y_test, yhat_classes)\n",
        "print('Accuracy: %f' % accuracy)\n",
        "# precision tp / (tp + fp)\n",
        "precision = precision_score(y_test, yhat_classes)\n",
        "print('Precision: %f' % precision)\n",
        "# recall: tp / (tp + fn)\n",
        "recall = recall_score(y_test, yhat_classes)\n",
        "print('Recall: %f' % recall)\n",
        "# f1: 2 tp / (2 tp + fp + fn)\n",
        "f1 = f1_score(y_test, yhat_classes)\n",
        "print('F1 score: %f' % f1)"
      ],
      "execution_count": null,
      "outputs": [
        {
          "output_type": "stream",
          "text": [
            "Accuracy: 0.839238\n",
            "Precision: 0.645621\n",
            "Recall: 0.341595\n",
            "F1 score: 0.446794\n"
          ],
          "name": "stdout"
        }
      ]
    }
  ]
}